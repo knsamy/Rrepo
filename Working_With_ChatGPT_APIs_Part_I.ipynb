{
  "nbformat": 4,
  "nbformat_minor": 0,
  "metadata": {
    "colab": {
      "provenance": [],
      "include_colab_link": true
    },
    "kernelspec": {
      "name": "python3",
      "display_name": "Python 3"
    },
    "language_info": {
      "name": "python"
    }
  },
  "cells": [
    {
      "cell_type": "markdown",
      "metadata": {
        "id": "view-in-github",
        "colab_type": "text"
      },
      "source": [
        "<a href=\"https://colab.research.google.com/github/knsamy/Rrepo/blob/master/Working_With_ChatGPT_APIs_Part_I.ipynb\" target=\"_parent\"><img src=\"https://colab.research.google.com/assets/colab-badge.svg\" alt=\"Open In Colab\"/></a>"
      ]
    },
    {
      "cell_type": "markdown",
      "source": [
        "# **Working With ChatGPT APIs | Part-I**\n",
        "In the previous section, we discussed an overview of the various models provided by ChatGPT (natural language, code, images, audio etc) and identified use-cases / tasks that the various models and APIs can be used for.\n",
        "\n",
        "In this session, we will extensively use the `Completion()` and `ChatCompletion()` API endpoints (for generating one-off responses and conducting chats/conversations, respectively). In this section, we will:\n",
        "1. Make API calls to the `Completion()` and `ChatCompletion()` endpoints\n",
        "2. Modify the prompts and make them more nuanced to perform complex tasks\n",
        "3. Create a very simple 'AI Tutor' using the `ChatCompletion()` endpoint\n",
        "4. Measure the cost of making API calls via tokens and put guardrails in place to monitor and control costs\n"
      ],
      "metadata": {
        "id": "LxBP0R-EzDrj"
      }
    },
    {
      "cell_type": "markdown",
      "source": [
        "## Getting Started with the `Completion()` API in Python\n",
        "\n",
        "We first need to install the `openai` Python library. In Google colab, you can install libraries by adding an exclamation mark before pip, i.e. `!pip install <library_name>`. You also need to get an OpenAI API key. Create an OpenAI account and [get an API key here](https://platform.openai.com/account/api-keys)."
      ],
      "metadata": {
        "id": "yX178PpbSUQ-"
      }
    },
    {
      "cell_type": "code",
      "source": [
        "# install openai\n",
        "!pip install openai"
      ],
      "metadata": {
        "id": "moJyTKPwzGay",
        "colab": {
          "base_uri": "https://localhost:8080/"
        },
        "outputId": "b709ead9-7e28-480e-a63a-a1a7456a8ecf"
      },
      "execution_count": null,
      "outputs": [
        {
          "output_type": "stream",
          "name": "stdout",
          "text": [
            "Requirement already satisfied: openai in /usr/local/lib/python3.10/dist-packages (0.27.8)\n",
            "Requirement already satisfied: requests>=2.20 in /usr/local/lib/python3.10/dist-packages (from openai) (2.27.1)\n",
            "Requirement already satisfied: tqdm in /usr/local/lib/python3.10/dist-packages (from openai) (4.65.0)\n",
            "Requirement already satisfied: aiohttp in /usr/local/lib/python3.10/dist-packages (from openai) (3.8.4)\n",
            "Requirement already satisfied: urllib3<1.27,>=1.21.1 in /usr/local/lib/python3.10/dist-packages (from requests>=2.20->openai) (1.26.16)\n",
            "Requirement already satisfied: certifi>=2017.4.17 in /usr/local/lib/python3.10/dist-packages (from requests>=2.20->openai) (2023.5.7)\n",
            "Requirement already satisfied: charset-normalizer~=2.0.0 in /usr/local/lib/python3.10/dist-packages (from requests>=2.20->openai) (2.0.12)\n",
            "Requirement already satisfied: idna<4,>=2.5 in /usr/local/lib/python3.10/dist-packages (from requests>=2.20->openai) (3.4)\n",
            "Requirement already satisfied: attrs>=17.3.0 in /usr/local/lib/python3.10/dist-packages (from aiohttp->openai) (23.1.0)\n",
            "Requirement already satisfied: multidict<7.0,>=4.5 in /usr/local/lib/python3.10/dist-packages (from aiohttp->openai) (6.0.4)\n",
            "Requirement already satisfied: async-timeout<5.0,>=4.0.0a3 in /usr/local/lib/python3.10/dist-packages (from aiohttp->openai) (4.0.2)\n",
            "Requirement already satisfied: yarl<2.0,>=1.0 in /usr/local/lib/python3.10/dist-packages (from aiohttp->openai) (1.9.2)\n",
            "Requirement already satisfied: frozenlist>=1.1.1 in /usr/local/lib/python3.10/dist-packages (from aiohttp->openai) (1.4.0)\n",
            "Requirement already satisfied: aiosignal>=1.1.2 in /usr/local/lib/python3.10/dist-packages (from aiohttp->openai) (1.3.1)\n"
          ]
        }
      ]
    },
    {
      "cell_type": "markdown",
      "source": [
        "To use OpenAI APIs we need to set an API key (you can do that [here](https://platform.openai.com/account/api-keys)). In this instance, I have stored my API key in a file named \"OpenAI_API_Key.txt\" which is stored on my Google drive.\n",
        "\n",
        "To read files from Google drive in Colab notebook, we need to \"mount the drive\" using the command below:"
      ],
      "metadata": {
        "id": "9SMoW69ewQ6X"
      }
    },
    {
      "cell_type": "code",
      "source": [
        "# once you mount your google drive, you can read data from your google drive into the colab notebook\n",
        "from google.colab import drive\n",
        "drive.mount('/content/drive')"
      ],
      "metadata": {
        "colab": {
          "base_uri": "https://localhost:8080/"
        },
        "id": "biDHNgQxwUu9",
        "outputId": "ae52eb33-0e27-406c-821c-d1b053b281a5"
      },
      "execution_count": null,
      "outputs": [
        {
          "output_type": "stream",
          "name": "stdout",
          "text": [
            "Drive already mounted at /content/drive; to attempt to forcibly remount, call drive.mount(\"/content/drive\", force_remount=True).\n"
          ]
        }
      ]
    },
    {
      "cell_type": "code",
      "source": [
        "# # second (alternate) way to upload files to colab\n",
        "# # use this to import files from your system to the colab environment\n",
        "\n",
        "# from google.colab import files\n",
        "# uploaded = files.upload()"
      ],
      "metadata": {
        "id": "OEZLvy7Eyfdu"
      },
      "execution_count": null,
      "outputs": []
    },
    {
      "cell_type": "markdown",
      "source": [
        "Once the Google drive is mounted, you can access the folders and the files in your Google drive. In ```My Drive```, create a folder ```GenAI_Course_Master/Course_1_ShopAssistAI/Week_2/Session_1``` where you can store this notebook and other files (API keys, data files etc). You can then access all the files in that folder at the filepath ```/content/drive/My Drive/GenAI_Course_Master/Course_1_ShopAssistAI/Week_2/Session_1```."
      ],
      "metadata": {
        "id": "F1RjisTEwuYa"
      }
    },
    {
      "cell_type": "code",
      "source": [
        "filepath = '/content/drive/MyDrive/GenAI_Course_Master/Course_1_ShopAssistAI/Week_2/Session_1/'\n",
        "# linux command to print all files in a directory\n",
        "!ls \"/content/drive/MyDrive/GenAI_Course_Master/Course_1_ShopAssistAI/Week_2/Session_1/\"\n",
        "# or alternatively\n",
        "# !ls $filepath"
      ],
      "metadata": {
        "colab": {
          "base_uri": "https://localhost:8080/"
        },
        "id": "PGscQrIUxdw6",
        "outputId": "a07921f7-bc22-4088-92da-361504c1afd8"
      },
      "execution_count": null,
      "outputs": [
        {
          "output_type": "stream",
          "name": "stdout",
          "text": [
            "OpenAI_API_Key.txt\t\t   Working_With_ChatGPT_APIs_Part_II.ipynb\n",
            "tata_motors_transcript_sample.txt  Working_With_ChatGPT_APIs_Part_I.ipynb\n",
            "tata_transcript.txt\n"
          ]
        }
      ]
    },
    {
      "cell_type": "code",
      "source": [
        "# import openai and set the API key\n",
        "import openai\n",
        "# filepath = \"/content/drive/My Drive/GenAI_Course_Master/Course_1_ShopAssistAI/\"\n",
        "\n",
        "with open(filepath + \"OpenAI_API_Key.txt\", \"r\") as f:\n",
        "  openai.api_key = ' '.join(f.readlines())"
      ],
      "metadata": {
        "id": "INJIL5XJzIre"
      },
      "execution_count": null,
      "outputs": []
    },
    {
      "cell_type": "markdown",
      "source": [
        "We can now use any of the OpenAI APIs. For natural language (text) and code, for any given model (GPT-3, 3.5 or 4), OpenAI provides API endpoints for three types of tasks:\n",
        "1. Text completion via the `Completion()` endpoint: Takes in text input (prompt) and generates output, good for single-use input-output\n",
        "2. Chat completion via the `ChatCompletion()` endpoint: Used for chat-like multi-turn conversation, takes the entire conversation history as input and returns the next response\n",
        "\n",
        "Let's first start with the `Completion()` API - the basic syntax is as follows. Here is an explanation of the key parameters we pass to the API call. [The official API documentation here](https://platform.openai.com/docs/api-reference/completions) explains everything in detail:\n",
        "* We use the model `text-davinci-002`, which belongs to the GPT-3.5 family\n",
        "* `max_tokens` refers to the max number of tokens to be generated\n",
        "* `temperature` is a number between 0 (most certain/deterministic) and 2 (most random), defaults to 1\n",
        "\n",
        "\n"
      ],
      "metadata": {
        "id": "LMdzXTS8zMci"
      }
    },
    {
      "cell_type": "code",
      "source": [
        "# using the Completion API\n",
        "\n",
        "# define an input prompt\n",
        "prompt = '''You are a helpful Python teaching assistant. Explain the various list indexing methods in Python. Provide an\n",
        "exhaustive summary of the methods describing what they do, sample code for each, and guidelines on when to use which method.\n",
        "'''\n",
        "\n",
        "chat_response = openai.Completion.create(\n",
        "    model=\"text-davinci-002\",\n",
        "    prompt=prompt,\n",
        "    max_tokens=200,\n",
        "    temperature=0.5,\n",
        "    n=1,\n",
        "    stop=None,\n",
        "    frequency_penalty=0,\n",
        "    presence_penalty=0)\n",
        "\n",
        "print(chat_response)"
      ],
      "metadata": {
        "colab": {
          "base_uri": "https://localhost:8080/"
        },
        "id": "4RTaTK5mzMvk",
        "outputId": "88c4d830-3aef-4e2f-aa9d-dd5d95ba620f"
      },
      "execution_count": null,
      "outputs": [
        {
          "output_type": "stream",
          "name": "stdout",
          "text": [
            "{\n",
            "  \"id\": \"cmpl-7eiVskzhnhOznfzobIyl2JM1qHwa4\",\n",
            "  \"object\": \"text_completion\",\n",
            "  \"created\": 1689938584,\n",
            "  \"model\": \"text-davinci-002\",\n",
            "  \"choices\": [\n",
            "    {\n",
            "      \"text\": \"\\nThere are two ways to index lists in Python: positive indexing and negative indexing. \\n\\nPositive indexing starts at the beginning of the list and counts up to the index you want. For example, if you have a list with five elements and you want to index the third element, you would use positive indexing and write listname[2]. The reason for this is because Python starts counting at 0 instead of 1. So, the first element in the list is actually 0, the second element is 1, and so on. \\n\\nNegative indexing starts at the end of the list and counts backwards. So, if you want to index the third element from the end of the list, you would use negative indexing and write listname[-3]. \\n\\nThere is also a method called \\u201cslicing\\u201d which allows you to index a range of elements from a list. To do this, you write listname[start\",\n",
            "      \"index\": 0,\n",
            "      \"logprobs\": null,\n",
            "      \"finish_reason\": \"length\"\n",
            "    }\n",
            "  ],\n",
            "  \"usage\": {\n",
            "    \"prompt_tokens\": 48,\n",
            "    \"completion_tokens\": 200,\n",
            "    \"total_tokens\": 248\n",
            "  }\n",
            "}\n"
          ]
        }
      ]
    },
    {
      "cell_type": "code",
      "source": [
        "print(type(chat_response))"
      ],
      "metadata": {
        "colab": {
          "base_uri": "https://localhost:8080/"
        },
        "id": "5YPQI16mzTyt",
        "outputId": "246d907f-535a-4ea9-f891-385db8a79c73"
      },
      "execution_count": null,
      "outputs": [
        {
          "output_type": "stream",
          "name": "stdout",
          "text": [
            "<class 'openai.openai_object.OpenAIObject'>\n"
          ]
        }
      ]
    },
    {
      "cell_type": "markdown",
      "source": [
        "The API returns a dictionary-like object. Also, notice that the API returns the number of `total_tokens` used (prompt tokens + completion tokens).\n",
        "\n",
        "<br>\n",
        "\n",
        "The reply we are interested in is the `text` inside `choices`, which seems to be a list. We can access that as follows:"
      ],
      "metadata": {
        "id": "9P1ZzLT6zYhS"
      }
    },
    {
      "cell_type": "code",
      "source": [
        "# retrieve the response text\n",
        "print(chat_response.choices[0][\"text\"])"
      ],
      "metadata": {
        "colab": {
          "base_uri": "https://localhost:8080/"
        },
        "id": "7aj7T1JWzWST",
        "outputId": "68a30db4-197b-4fd2-e572-cf8c3c7d1a55"
      },
      "execution_count": null,
      "outputs": [
        {
          "output_type": "stream",
          "name": "stdout",
          "text": [
            "\n",
            "There are two ways to index lists in Python: positive indexing and negative indexing. \n",
            "\n",
            "Positive indexing starts at the beginning of the list and counts up to the index you want. For example, if you have a list with five elements and you want to index the third element, you would use positive indexing and write listname[2]. The reason for this is because Python starts counting at 0 instead of 1. So, the first element in the list is actually 0, the second element is 1, and so on. \n",
            "\n",
            "Negative indexing starts at the end of the list and counts backwards. So, if you want to index the third element from the end of the list, you would use negative indexing and write listname[-3]. \n",
            "\n",
            "There is also a method called “slicing” which allows you to index a range of elements from a list. To do this, you write listname[start\n"
          ]
        }
      ]
    },
    {
      "cell_type": "markdown",
      "source": [
        "We can increase the number of `max_tokens` to get a more detailed response."
      ],
      "metadata": {
        "id": "yweiksDjEnAL"
      }
    },
    {
      "cell_type": "code",
      "source": [
        "# increased number of tokens\n",
        "chat_response = openai.Completion.create(\n",
        "    model=\"text-davinci-002\",\n",
        "    prompt=prompt,\n",
        "    max_tokens=800,\n",
        "    temperature=0.5,\n",
        "    n=1,\n",
        "    stop=None,\n",
        "    frequency_penalty=0,\n",
        "    presence_penalty=0)\n",
        "\n",
        "print(chat_response.choices[0][\"text\"])"
      ],
      "metadata": {
        "colab": {
          "base_uri": "https://localhost:8080/"
        },
        "id": "5fCzVUz1zdY9",
        "outputId": "9079eaf2-e515-4dcf-80ee-5749a23786cf"
      },
      "execution_count": null,
      "outputs": [
        {
          "output_type": "stream",
          "name": "stdout",
          "text": [
            "\n",
            "There are three main ways to index a list in Python:\n",
            "\n",
            "1. using the index() method\n",
            "2. using a for loop\n",
            "3. using a while loop\n",
            "\n",
            "The index() method is the most straightforward way to index a list. It takes an element as an argument and returns the index of that element. If the element is not in the list, it returns -1.\n",
            "\n",
            "Sample code:\n",
            "\n",
            ">>> my_list = ['a', 'b', 'c']\n",
            ">>> my_list.index('a')\n",
            "0\n",
            ">>> my_list.index('b')\n",
            "1\n",
            ">>> my_list.index('c')\n",
            "2\n",
            "\n",
            "If you need to index a list more than once, or if you need to index elements based on some criteria, it is more efficient to use a for loop or a while loop.\n",
            "\n",
            "A for loop iterates over the elements of a list, and you can use the loop variable to keep track of the index.\n",
            "\n",
            "Sample code:\n",
            "\n",
            ">>> my_list = ['a', 'b', 'c']\n",
            ">>> for i in range(len(my_list)):\n",
            "...     print(i, my_list[i])\n",
            "...\n",
            "0 a\n",
            "1 b\n",
            "2 c\n",
            "\n",
            "A while loop can also be used to index a list. The loop variable can be used to keep track of the index, or you can keep track of the index yourself with a separate variable.\n",
            "\n",
            "Sample code:\n",
            "\n",
            ">>> my_list = ['a', 'b', 'c']\n",
            ">>> i = 0\n",
            ">>> while i < len(my_list):\n",
            "...     print(i, my_list[i])\n",
            "...     i += 1\n",
            "...\n",
            "0 a\n",
            "1 b\n",
            "2 c\n"
          ]
        }
      ]
    },
    {
      "cell_type": "markdown",
      "source": [
        "> ### Exercise: Explore and play with the `Completions()` API\n",
        "\n",
        "\n",
        "\n",
        "*   Read the [completions API documentation](https://platform.openai.com/docs/api-reference/completions), experiment with modifying the various parameters\n",
        "* From the OpenAI API docs, find out the maximum number of tokens that can be used with the `text-davinci-002` model\n",
        "*   The prompt in the previous example is about explaining Python list indexing methods. Try to modify the prompt such that the user can provide a topic as a variable to the prompt, for e.g. dictionaries, dataframes, etc.\n",
        "\n"
      ],
      "metadata": {
        "id": "ZmLdhj30FvRW"
      }
    },
    {
      "cell_type": "markdown",
      "source": [
        "## Creating More Complex Prompts\n",
        "We can now modify the prompts such that users can provide inputs to it. For e.g. we may want to let the user specify the name of a topic."
      ],
      "metadata": {
        "id": "OQus9GhYNyYS"
      }
    },
    {
      "cell_type": "code",
      "source": [
        "# topic as input\n",
        "topic_name = \"Indexing in Pandas Dataframes\"\n",
        "\n",
        "prompt = '''You are a helpful Python teaching assistant. Explain the following topic in detail. Provide an exhaustive\n",
        "summary of the methods describing what they do, sample code for each, and guidelines on when to use which method.\n",
        "The topic is: {0}'''.format(topic_name)\n",
        "\n",
        "# call the API with the new prompt\n",
        "chat_response = openai.Completion.create(\n",
        "    model=\"text-davinci-002\",\n",
        "    prompt=prompt,\n",
        "    max_tokens=800,\n",
        "    temperature=0.5,\n",
        "    n=1,\n",
        "    stop=None,\n",
        "    frequency_penalty=0,\n",
        "    presence_penalty=0)\n",
        "\n",
        "print(chat_response.choices[0][\"text\"])"
      ],
      "metadata": {
        "colab": {
          "base_uri": "https://localhost:8080/"
        },
        "id": "fGJj_d9D8Iuu",
        "outputId": "9a61af5e-8d16-417a-fce4-ae60a5f5b049"
      },
      "execution_count": null,
      "outputs": [
        {
          "output_type": "stream",
          "name": "stdout",
          "text": [
            "\n",
            "\n",
            "Indexing in pandas dataframes refers to the process of selecting specific rows and columns from a dataframe. This can be done using the indexing operator, which is the square bracket ([ ]) operator.\n",
            "\n",
            "The indexing operator can be used to select a single row or column, multiple rows or columns, or a range of rows or columns. To select a single row or column, use the indexing operator with the name of the row or column. For example, to select the first row of a dataframe, use the indexing operator with the name of the row: df[0]. To select the first column of a dataframe, use the indexing operator with the name of the column: df['column1'].\n",
            "\n",
            "To select multiple rows or columns, use the indexing operator with a list of the names of the rows or columns. For example, to select the first and third rows of a dataframe, use the indexing operator with a list of the row names: df[['row1', 'row3']]. To select the first and third columns of a dataframe, use the indexing operator with a list of the column names: df[['column1', 'column3']].\n",
            "\n",
            "To select a range of rows or columns, use the indexing operator with a range of the names of the rows or columns. For example, to select the first three rows of a dataframe, use the indexing operator with a range of the row names: df[0:3]. To select the first three columns of a dataframe, use the indexing operator with a range of the column names: df['column1':'column3'].\n",
            "\n",
            "Guidelines:\n",
            "\n",
            "- To select a single row or column, use the indexing operator with the name of the row or column.\n",
            "- To select multiple rows or columns, use the indexing operator with a list of the names of the rows or columns.\n",
            "- To select a range of rows or columns, use the indexing operator with a range of the names of the rows or columns.\n"
          ]
        }
      ]
    },
    {
      "cell_type": "markdown",
      "source": [
        "Depending on the application, we often want to provide additional instructions to the prompt, such as *explain at a beginner level*, *explain step by step*, or any other specific, detailed information, such as *use the following two page document to answer the user's question*. We can do that by some simple text manipulation hacks.\n",
        "\n",
        "<br>\n",
        "\n",
        "For example, say you want to develop an information retrieval app for Financial Analysts which can provide them information from documents such as investor presentations, annual reports, quarterly earnings calls, etc. As a sample, see [this earnings call report](https://www.tatamotors.com/wp-content/uploads/2023/05/earnings-call-transcript-q4-fy23.pdf) of an Indian automobile company, Tata Motors.\n",
        "\n",
        "For demonstration, we have taken a small toy-sized sample of this transcript and put it in a txt file `tata_motors_transcript_sample.txt` (this file is uploaded along with the colab notebook, so we can read the file directly as shown below).\n",
        "\n",
        "If you want to use any other file that you have on your system, you can upload it via the following command:"
      ],
      "metadata": {
        "id": "DN8SCbGKQDMk"
      }
    },
    {
      "cell_type": "code",
      "source": [
        "# use this to import files from your system to the colab environment\n",
        "\n",
        "# from google.colab import files\n",
        "# uploaded = files.upload()"
      ],
      "metadata": {
        "id": "_V96FYQgIMjN"
      },
      "execution_count": null,
      "outputs": []
    },
    {
      "cell_type": "code",
      "source": [
        "with open(filepath + \"tata_motors_transcript_sample.txt\", \"r\") as f:\n",
        "  transcript = ' '.join(f.readlines())\n",
        "\n",
        "print(len(transcript))\n",
        "print(transcript)"
      ],
      "metadata": {
        "colab": {
          "base_uri": "https://localhost:8080/"
        },
        "id": "yrO5KxOrafnU",
        "outputId": "051c8262-7098-4838-fdc9-a57330d80a80"
      },
      "execution_count": null,
      "outputs": [
        {
          "output_type": "stream",
          "name": "stdout",
          "text": [
            "3370\n",
            "Fair to say it  has been an extremely satisfying quarter. And the reason I say, use  that word is that, nice to \n",
            "  see all the auto verticals coming together once again and this time  with a lot of intensity as well. So both \n",
            "  the alignment of the vectors are there and the magnitude  of vectors are also increasing, which is what has \n",
            "  translated into a strong set of numbers  for the quarters, resulting on multiple highs  and I will quickly  cover \n",
            "  that in the coming slides . We en ded the year on a pretty strong note with revenue of  around  Rs. 1 lakh \n",
            "  crores  with an EBITDA of 13.3% , and the profit before tax and exceptional item of Rs. 5,000  crores.  \n",
            "  On a full -year basis, we hit our highest ever revenue at  around  Rs. 3.5 lakh crores and ended the year  with \n",
            "  a positive free cash flow  of Rs. 7,800 crores, despite a very weak start in Q1 and  Q2, which you see in the \n",
            "  numbers . The business has been sequentially improving its performance  and doing it in significant \n",
            "  stretches. So, very happy with the way we have ended . Next slide please.  \n",
            "  Source of growt h, in the quarter we grew by about 35% , of which  volume  and mix contributed 24% of the \n",
            "  35% and the price came in at 10.5%, so price is still  a very strong variable in our growth agenda. \n",
            "  Profitability 3.2% went to 6.8% and all businesses  contributing to it and JLR coming at a very large swing \n",
            "  there, contributing to the  2.8% out of that delta there. Again debt continues to reduce at Rs. 43,700 crores \n",
            "  and TML India at Rs. 6,200 crores, JLR GBP  3 billion i.e. Rs. 30,000 crores we talk about. So  the FY 24 net \n",
            "  debt reduction plan, we are confirming, we will not be in a position to  meet the FY 24 numbers, but very \n",
            "  clearly  - FY25 we want this issue sorted out.  Next slide.  \n",
            "  A series of headlines, normally we don't do that, but it's fair to just pull back  and reflect  on what this \n",
            "  quarter and the year actually means for the Group . For us , each one of us in this call, we feel strongly \n",
            "  about this, the highest -ever revenue in a  quarter, the highest -ever EBITDA in a quarter, one of the \n",
            "  strongest PBTs that we  delivered and all three auto vertical simultaneously profitable, strong net debt \n",
            "  reduction.  That's all the quarter numbers. And if you factor in  that the first half was a very weak first half,  \n",
            "  we still delivered the highest -ever revenue. We have the highest EBITDA since  2015, very  strong PBT \n",
            "  despite the weak start , after factoring the weak start. And India net debt  lowest in the last 15 years, so \n",
            "  it's worthwhile just to  mull over  it to say, I would say, that the  potential of this business is slowly starting \n",
            "  to come out and that's what we would want to  build on when we go into FY 24. This is basically giving us \n",
            "  the impetus to how we want to  play at FY 24. Next slide.  \n",
            "  This is also something which we are happy about, a dividend of Rs. 2 per share for  the ordinary \n",
            "  shareholder s and Rs. 2.1 for the DVR shareholders, coming in after sometime. And this will obviously have \n",
            "  to be a - the Board has recommended this and this will have to be approved  in the ensuing shareholders \n",
            "  meeting. And this will result in a cash flow of  Rs. 771 crores as part of the plan i.e. this  is factored into the \n",
            "  debt reduction plan in any case.  So again, very happy to see this.\n",
            "\n"
          ]
        }
      ]
    },
    {
      "cell_type": "markdown",
      "source": [
        "Now, we design a prompt comprising of three entities - a) the base instruction which specifies the task to ChatGPT, b) the question asked by the user (analyst), c) the earnings call transcript using which it is supposed to find an answer."
      ],
      "metadata": {
        "id": "2_hIEDSDIcLG"
      }
    },
    {
      "cell_type": "code",
      "source": [
        "base_instruction = '''You are a helpful assistant which helps financial analysts retrieve relevant financial and business related information from documents.\n",
        "Given below is a question and the transcript of an earnings call of an automobile company, Tata Motors, which was attended by the top management of the firm.\n",
        "Try to respond with specific numbers and facts wherever possible. If you are not sure about the accuracy of the information, just respond that you do not know'''\n",
        "\n",
        "question = \"How much free cash flow did Tata Motors have at the end of the year?\"\n",
        "\n",
        "prompt = base_instruction + \"\\n\\n\" +  \"Question: {0}\".format(question) + \"\\n\\n\" + \"Transcript: \\n {0}\".format(transcript)\n",
        "\n",
        "print(prompt)\n"
      ],
      "metadata": {
        "colab": {
          "base_uri": "https://localhost:8080/"
        },
        "id": "NNDGlBEy8WAY",
        "outputId": "f9ee599e-9526-4c01-a28e-3774e9c5ffe5"
      },
      "execution_count": null,
      "outputs": [
        {
          "output_type": "stream",
          "name": "stdout",
          "text": [
            "You are a helpful assistant which helps financial analysts retrieve relevant financial and business related information from documents.\n",
            "Given below is a question and the transcript of an earnings call of an automobile company, Tata Motors, which was attended by the top management of the firm.\n",
            "Try to respond with specific numbers and facts wherever possible. If you are not sure about the accuracy of the information, just respond that you do not know\n",
            "\n",
            "Question: How much free cash flow did Tata Motors have at the end of the year?\n",
            "\n",
            "Transcript: \n",
            " Fair to say it  has been an extremely satisfying quarter. And the reason I say, use  that word is that, nice to \n",
            "  see all the auto verticals coming together once again and this time  with a lot of intensity as well. So both \n",
            "  the alignment of the vectors are there and the magnitude  of vectors are also increasing, which is what has \n",
            "  translated into a strong set of numbers  for the quarters, resulting on multiple highs  and I will quickly  cover \n",
            "  that in the coming slides . We en ded the year on a pretty strong note with revenue of  around  Rs. 1 lakh \n",
            "  crores  with an EBITDA of 13.3% , and the profit before tax and exceptional item of Rs. 5,000  crores.  \n",
            "  On a full -year basis, we hit our highest ever revenue at  around  Rs. 3.5 lakh crores and ended the year  with \n",
            "  a positive free cash flow  of Rs. 7,800 crores, despite a very weak start in Q1 and  Q2, which you see in the \n",
            "  numbers . The business has been sequentially improving its performance  and doing it in significant \n",
            "  stretches. So, very happy with the way we have ended . Next slide please.  \n",
            "  Source of growt h, in the quarter we grew by about 35% , of which  volume  and mix contributed 24% of the \n",
            "  35% and the price came in at 10.5%, so price is still  a very strong variable in our growth agenda. \n",
            "  Profitability 3.2% went to 6.8% and all businesses  contributing to it and JLR coming at a very large swing \n",
            "  there, contributing to the  2.8% out of that delta there. Again debt continues to reduce at Rs. 43,700 crores \n",
            "  and TML India at Rs. 6,200 crores, JLR GBP  3 billion i.e. Rs. 30,000 crores we talk about. So  the FY 24 net \n",
            "  debt reduction plan, we are confirming, we will not be in a position to  meet the FY 24 numbers, but very \n",
            "  clearly  - FY25 we want this issue sorted out.  Next slide.  \n",
            "  A series of headlines, normally we don't do that, but it's fair to just pull back  and reflect  on what this \n",
            "  quarter and the year actually means for the Group . For us , each one of us in this call, we feel strongly \n",
            "  about this, the highest -ever revenue in a  quarter, the highest -ever EBITDA in a quarter, one of the \n",
            "  strongest PBTs that we  delivered and all three auto vertical simultaneously profitable, strong net debt \n",
            "  reduction.  That's all the quarter numbers. And if you factor in  that the first half was a very weak first half,  \n",
            "  we still delivered the highest -ever revenue. We have the highest EBITDA since  2015, very  strong PBT \n",
            "  despite the weak start , after factoring the weak start. And India net debt  lowest in the last 15 years, so \n",
            "  it's worthwhile just to  mull over  it to say, I would say, that the  potential of this business is slowly starting \n",
            "  to come out and that's what we would want to  build on when we go into FY 24. This is basically giving us \n",
            "  the impetus to how we want to  play at FY 24. Next slide.  \n",
            "  This is also something which we are happy about, a dividend of Rs. 2 per share for  the ordinary \n",
            "  shareholder s and Rs. 2.1 for the DVR shareholders, coming in after sometime. And this will obviously have \n",
            "  to be a - the Board has recommended this and this will have to be approved  in the ensuing shareholders \n",
            "  meeting. And this will result in a cash flow of  Rs. 771 crores as part of the plan i.e. this  is factored into the \n",
            "  debt reduction plan in any case.  So again, very happy to see this.\n",
            "\n"
          ]
        }
      ]
    },
    {
      "cell_type": "code",
      "source": [
        "# call the API with the new prompt\n",
        "chat_response = openai.Completion.create(\n",
        "    model=\"text-davinci-002\",\n",
        "    prompt=prompt,\n",
        "    max_tokens=1000,\n",
        "    temperature=0.5,\n",
        "    n=1,\n",
        "    stop=None,\n",
        "    frequency_penalty=0,\n",
        "    presence_penalty=0)\n",
        "\n",
        "print(chat_response.choices[0][\"text\"])"
      ],
      "metadata": {
        "colab": {
          "base_uri": "https://localhost:8080/"
        },
        "id": "fslRdgwh-kwR",
        "outputId": "93e0f10c-8818-4ce3-f888-336e3bdd37cf"
      },
      "execution_count": null,
      "outputs": [
        {
          "output_type": "stream",
          "name": "stdout",
          "text": [
            "\n",
            "Tata Motors had a positive free cash flow of Rs. 7,800 crores at the end of the year.\n"
          ]
        }
      ]
    },
    {
      "cell_type": "code",
      "source": [
        "# another question\n",
        "question = \"Summarise the key financial metrics reported in the earnings call related to revenue growth, profitability, cash flow and debt.\"\n",
        "\n",
        "prompt = base_instruction + \"\\n\\n\" +  \"Question: {0}\".format(question) + \"\\n\\n\" + \"Transcript: \\n {0}\".format(transcript)\n",
        "\n",
        "chat_response = openai.Completion.create(\n",
        "    model=\"text-davinci-002\",\n",
        "    prompt=prompt,\n",
        "    max_tokens=1000,\n",
        "    temperature=0.5,\n",
        "    n=1,\n",
        "    stop=None,\n",
        "    frequency_penalty=0,\n",
        "    presence_penalty=0)\n",
        "\n",
        "print(chat_response.choices[0][\"text\"])"
      ],
      "metadata": {
        "colab": {
          "base_uri": "https://localhost:8080/"
        },
        "id": "rE52r251-wqX",
        "outputId": "49495c56-222e-4587-debc-847a24ba707c"
      },
      "execution_count": null,
      "outputs": [
        {
          "output_type": "stream",
          "name": "stdout",
          "text": [
            "\n",
            "In the earnings call, the company reports revenue growth of 35%, with volume and mix contributing 24% and price contributing 10.5%. They also reported profitability increasing from 3.2% to 6.8%, with all businesses contributing and JLR contributing the most. Additionally, they reported that debt has been reduced to Rs. 43,700 crores and that they are on track to reducing debt even further in the next fiscal year.\n"
          ]
        }
      ]
    },
    {
      "cell_type": "code",
      "source": [
        "# ask something not mentioned in the transcript sample\n",
        "question = \"How much equity funding did Tata Motors raise from institutional investors in this quarter?\"\n",
        "\n",
        "prompt = base_instruction + \"\\n\\n\" +  \"Question: {0}\".format(question) + \"\\n\\n\" + \"Transcript: \\n {0}\".format(transcript)\n",
        "\n",
        "chat_response = openai.Completion.create(\n",
        "    model=\"text-davinci-002\",\n",
        "    prompt=prompt,\n",
        "    max_tokens=1000,\n",
        "    temperature=0.5,\n",
        "    n=1,\n",
        "    stop=None,\n",
        "    frequency_penalty=0,\n",
        "    presence_penalty=0)\n",
        "\n",
        "print(chat_response.choices[0][\"text\"])"
      ],
      "metadata": {
        "colab": {
          "base_uri": "https://localhost:8080/"
        },
        "id": "UntEK50dJols",
        "outputId": "08a00378-9e04-400e-f15d-b7e0995f0f3a"
      },
      "execution_count": null,
      "outputs": [
        {
          "output_type": "stream",
          "name": "stdout",
          "text": [
            "\n",
            "Tata Motors raised Rs. 771 crores from institutional investors in this quarter.\n"
          ]
        }
      ]
    },
    {
      "cell_type": "markdown",
      "source": [
        "> ### Exercise: Refining the Prompt\n",
        "* Modify the prompt so ChatGPT can do the following tasks:\n",
        " - When the user asks for information not present in the transcript, ChatGPT must respond accordingly, rather than providing an incorrect answer\n",
        " - If ChatGPT is unsure of the answer, it must provide an appropriate response"
      ],
      "metadata": {
        "id": "t-ORuzjjaPfX"
      }
    },
    {
      "cell_type": "markdown",
      "source": [
        "## Summary\n",
        "\n",
        "In this section of the tutorial, we used the `Completion()` API to access ChatGPT via Python, wrote prompts that can take variable inputs, and tinkered with some ways to add external information to the prompts.\n",
        "\n",
        "In the next section, we will build longer, chat-like programs using the `ChatCompletion()` API."
      ],
      "metadata": {
        "id": "PYyBU1zqZ5I7"
      }
    }
  ]
}